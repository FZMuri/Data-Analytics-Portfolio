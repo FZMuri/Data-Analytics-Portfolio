{
  "cells": [
    {
      "cell_type": "markdown",
      "metadata": {
        "id": "view-in-github",
        "colab_type": "text"
      },
      "source": [
        "<a href=\"https://colab.research.google.com/github/FZMuri/Data-Analytics-Portfolio/blob/main/DT_Mini_Project.ipynb\" target=\"_parent\"><img src=\"https://colab.research.google.com/assets/colab-badge.svg\" alt=\"Open In Colab\"/></a>"
      ]
    },
    {
      "cell_type": "markdown",
      "metadata": {
        "id": "0nYxpLPb7-vI"
      },
      "source": [
        "# Decision Tree Mini Project"
      ]
    },
    {
      "cell_type": "markdown",
      "metadata": {
        "id": "Ulif_uN_7-vL"
      },
      "source": [
        "A pet food company wants to know why some batches of their pet foods are spoiling much quicker than expected. The pet food company first mixes up a batch of preservative that contains four different preservative chemicals (A,B,C,D) and then is completed with a \"filler\" chemical. The food scientists believe one of the A,B,C, or D preservatives is causing the problem, but need your help to figure out which one.\n",
        "Use the Decision Tree algorithm to find out which parameter had the most predictive power, thus finding out which chemical causes the early spoiling. So, create a DT model and then find out how you can decide which chemical is the problem.\n",
        "\n",
        "- Pres_A : Percentage of preservative A in the mix\n",
        "- Pres_B : Percentage of preservative B in the mix\n",
        "- Pres_C : Percentage of preservative C in the mix\n",
        "- Pres_D : Percentage of preservative D in the mix\n",
        "- Spoiled: Label indicating whether or not the pet food batch was spoiled.\n"
      ]
    },
    {
      "cell_type": "code",
      "execution_count": null,
      "metadata": {
        "colab": {
          "base_uri": "https://localhost:8080/"
        },
        "id": "Yee8izN67-vO",
        "outputId": "10d31309-3602-40da-d8cf-04372eedb515"
      },
      "outputs": [
        {
          "output_type": "stream",
          "name": "stdout",
          "text": [
            "Looking in indexes: https://pypi.org/simple, https://us-python.pkg.dev/colab-wheels/public/simple/\n",
            "Collecting pyspark\n",
            "  Downloading pyspark-3.3.0.tar.gz (281.3 MB)\n",
            "\u001b[K     |████████████████████████████████| 281.3 MB 36 kB/s \n",
            "\u001b[?25hCollecting py4j==0.10.9.5\n",
            "  Downloading py4j-0.10.9.5-py2.py3-none-any.whl (199 kB)\n",
            "\u001b[K     |████████████████████████████████| 199 kB 48.1 MB/s \n",
            "\u001b[?25hBuilding wheels for collected packages: pyspark\n",
            "  Building wheel for pyspark (setup.py) ... \u001b[?25l\u001b[?25hdone\n",
            "  Created wheel for pyspark: filename=pyspark-3.3.0-py2.py3-none-any.whl size=281764026 sha256=ef70f160b3d1f10460692e1f055d1291e9ebbcc11218ed2e40cf78f5978c498a\n",
            "  Stored in directory: /root/.cache/pip/wheels/7a/8e/1b/f73a52650d2e5f337708d9f6a1750d451a7349a867f928b885\n",
            "Successfully built pyspark\n",
            "Installing collected packages: py4j, pyspark\n",
            "Successfully installed py4j-0.10.9.5 pyspark-3.3.0\n"
          ]
        }
      ],
      "source": [
        " !pip install pyspark\n",
        "import pyspark\n",
        "from pyspark.sql.functions import *\n",
        "from pyspark.ml.feature import VectorAssembler,StringIndexer\n",
        "from pyspark.sql import SparkSession\n",
        "from pyspark.sql import SparkSession\n",
        "\n",
        "spark = SparkSession.builder.appName('petfood').getOrCreate()"
      ]
    },
    {
      "cell_type": "code",
      "source": [
        "from pyspark.ml import Pipeline\n",
        "from pyspark.ml.classification import DecisionTreeClassifier\n",
        "from pyspark.ml.feature import StringIndexer, VectorIndexer\n",
        "from pyspark.ml.evaluation import MulticlassClassificationEvaluator\n",
        "from pyspark.mllib.util import MLUtils"
      ],
      "metadata": {
        "id": "46PaBIaO-wtH"
      },
      "execution_count": null,
      "outputs": []
    },
    {
      "cell_type": "code",
      "execution_count": null,
      "metadata": {
        "id": "E2Tg3b-17-vR"
      },
      "outputs": [],
      "source": [
        "data = spark.read.csv('pet_food.csv', inferSchema=True, header= True)"
      ]
    },
    {
      "cell_type": "code",
      "execution_count": null,
      "metadata": {
        "colab": {
          "base_uri": "https://localhost:8080/"
        },
        "id": "mGxBwp9w7-vU",
        "outputId": "aeaecbea-681f-437a-ca47-979072ce570a"
      },
      "outputs": [
        {
          "output_type": "stream",
          "name": "stdout",
          "text": [
            "+---+---+----+---+-------+\n",
            "|  A|  B|   C|  D|Spoiled|\n",
            "+---+---+----+---+-------+\n",
            "|  4|  2|12.0|  3|    1.0|\n",
            "|  5|  6|12.0|  7|    1.0|\n",
            "|  6|  2|13.0|  6|    1.0|\n",
            "|  4|  2|12.0|  1|    1.0|\n",
            "|  4|  2|12.0|  3|    1.0|\n",
            "| 10|  3|13.0|  9|    1.0|\n",
            "|  8|  5|14.0|  5|    1.0|\n",
            "|  5|  8|12.0|  8|    1.0|\n",
            "|  6|  5|12.0|  9|    1.0|\n",
            "|  3|  3|12.0|  1|    1.0|\n",
            "|  9|  8|11.0|  3|    1.0|\n",
            "|  1| 10|12.0|  3|    1.0|\n",
            "|  1|  5|13.0| 10|    1.0|\n",
            "|  2| 10|12.0|  6|    1.0|\n",
            "|  1| 10|11.0|  4|    1.0|\n",
            "|  5|  3|12.0|  2|    1.0|\n",
            "|  4|  9|11.0|  8|    1.0|\n",
            "|  5|  1|11.0|  1|    1.0|\n",
            "|  4|  9|12.0| 10|    1.0|\n",
            "|  5|  8|10.0|  9|    1.0|\n",
            "+---+---+----+---+-------+\n",
            "only showing top 20 rows\n",
            "\n"
          ]
        }
      ],
      "source": [
        "data.show()"
      ]
    },
    {
      "cell_type": "code",
      "source": [
        "data.count()"
      ],
      "metadata": {
        "colab": {
          "base_uri": "https://localhost:8080/"
        },
        "id": "28m_HtG-80_L",
        "outputId": "55afe0bd-4d56-4cde-89a2-3c217561e99c"
      },
      "execution_count": null,
      "outputs": [
        {
          "output_type": "execute_result",
          "data": {
            "text/plain": [
              "490"
            ]
          },
          "metadata": {},
          "execution_count": 6
        }
      ]
    },
    {
      "cell_type": "markdown",
      "source": [
        "### Create a vector assembler to transform our data"
      ],
      "metadata": {
        "id": "wD0rIVyv-Khq"
      }
    },
    {
      "cell_type": "markdown",
      "source": [
        "**VectorAssembler** is a transformer that combines a given list of columns into a single vector column. It is useful for combining raw features and features generated by different feature transformers into a single feature vector, in order to train ML models."
      ],
      "metadata": {
        "id": "R5WKk53w-AnY"
      }
    },
    {
      "cell_type": "code",
      "source": [
        "vec_assembler = VectorAssembler(inputCols=['A', 'B', 'C', 'D'],\n",
        "                                outputCol= 'features')\n",
        "vecdata = vec_assembler.transform(data)\n",
        "vecdata.show(3)"
      ],
      "metadata": {
        "colab": {
          "base_uri": "https://localhost:8080/"
        },
        "id": "Ay_pTCgv9xt3",
        "outputId": "97742261-54ef-4e45-8351-31b81378d7e7"
      },
      "execution_count": null,
      "outputs": [
        {
          "output_type": "stream",
          "name": "stdout",
          "text": [
            "+---+---+----+---+-------+------------------+\n",
            "|  A|  B|   C|  D|Spoiled|          features|\n",
            "+---+---+----+---+-------+------------------+\n",
            "|  4|  2|12.0|  3|    1.0|[4.0,2.0,12.0,3.0]|\n",
            "|  5|  6|12.0|  7|    1.0|[5.0,6.0,12.0,7.0]|\n",
            "|  6|  2|13.0|  6|    1.0|[6.0,2.0,13.0,6.0]|\n",
            "+---+---+----+---+-------+------------------+\n",
            "only showing top 3 rows\n",
            "\n"
          ]
        }
      ]
    },
    {
      "cell_type": "code",
      "source": [
        "vecdata.printSchema()"
      ],
      "metadata": {
        "colab": {
          "base_uri": "https://localhost:8080/"
        },
        "id": "2zA9ORe9-Tnd",
        "outputId": "c533998a-233c-46e2-ab56-bcecb0568383"
      },
      "execution_count": null,
      "outputs": [
        {
          "output_type": "stream",
          "name": "stdout",
          "text": [
            "root\n",
            " |-- A: integer (nullable = true)\n",
            " |-- B: integer (nullable = true)\n",
            " |-- C: double (nullable = true)\n",
            " |-- D: integer (nullable = true)\n",
            " |-- Spoiled: double (nullable = true)\n",
            " |-- features: vector (nullable = true)\n",
            "\n"
          ]
        }
      ]
    },
    {
      "cell_type": "code",
      "source": [
        "featureIndexer =\\\n",
        "    VectorIndexer(inputCol=\"features\", outputCol=\"indexedFeatures\").fit(vecdata)\n",
        "\n",
        "labelIndexer = StringIndexer(inputCol= 'Spoiled', outputCol= 'indexedLabel').fit(vecdata)\n",
        "\n",
        "# Split the data into training and test sets (30% held out for testing)\n",
        "(trainDf, testDf) = vecdata.randomSplit([0.75, 0.25],1)\n",
        "\n",
        "# Train a DecisionTree model.\n",
        "dt = DecisionTreeClassifier(labelCol=\"indexedLabel\",\n",
        "                            featuresCol=\"indexedFeatures\")\n",
        "\n",
        "# Chain indexers and tree in a Pipeline\n",
        "pipeline = Pipeline(stages=[labelIndexer, featureIndexer, dt])\n",
        "\n",
        "# Train model.  This also runs the indexers.\n",
        "model = pipeline.fit(trainDf)\n",
        "\n",
        "# Make predictions.\n",
        "predictions = model.transform(testDf)\n",
        "\n",
        "# Select example rows to display.\n",
        "predictions.select(\"prediction\", \"indexedLabel\", \"features\").show(5)\n",
        "\n",
        "# Select (prediction, true label) and compute test error\n",
        "evaluator = MulticlassClassificationEvaluator(labelCol=\"indexedLabel\", \n",
        "                                              predictionCol=\"prediction\", \n",
        "                                              metricName=\"accuracy\")\n",
        "accuracy = evaluator.evaluate(predictions)\n",
        "print('Decision Tree accuracy is {:.3f}.'.format(accuracy))\n",
        "\n",
        "treeModel = model.stages[2]\n",
        "print (treeModel) # summary only"
      ],
      "metadata": {
        "colab": {
          "base_uri": "https://localhost:8080/"
        },
        "id": "E_pkghqS9mVo",
        "outputId": "3e6c29cd-b915-4285-ae08-c0156b8075da"
      },
      "execution_count": null,
      "outputs": [
        {
          "output_type": "stream",
          "name": "stdout",
          "text": [
            "+----------+------------+-------------------+\n",
            "|prediction|indexedLabel|           features|\n",
            "+----------+------------+-------------------+\n",
            "|       0.0|         0.0|  [1.0,2.0,9.0,1.0]|\n",
            "|       0.0|         0.0|  [1.0,4.0,9.0,6.0]|\n",
            "|       1.0|         1.0|[1.0,4.0,13.0,10.0]|\n",
            "|       0.0|         0.0|  [1.0,5.0,8.0,3.0]|\n",
            "|       0.0|         0.0| [1.0,5.0,8.0,10.0]|\n",
            "+----------+------------+-------------------+\n",
            "only showing top 5 rows\n",
            "\n",
            "Decision Tree accuracy is 0.950.\n",
            "DecisionTreeClassificationModel: uid=DecisionTreeClassifier_7a8afe40d3ff, depth=5, numNodes=25, numClasses=2, numFeatures=4\n"
          ]
        }
      ]
    },
    {
      "cell_type": "markdown",
      "source": [
        "### ALTERNATE WAY"
      ],
      "metadata": {
        "id": "Q-Xa3JyaIOPd"
      }
    },
    {
      "cell_type": "code",
      "source": [
        "# Create a vector assembler to transform our data.\n",
        "vec_assembler = VectorAssembler(inputCols=['A', 'B', 'C', 'D'],\n",
        "                                outputCol= 'features')\n",
        "vecDf= vec_assembler.transform(data)\n",
        "# vecIris_df.show()\n",
        "# vecIris_df.printSchema()\n",
        "# vecIris_df.count()\n",
        "\n",
        "# StringIndexer encodes a string column of labels to a column of label indices.\n",
        "# The indices are in [0, numLabels), ordered by label frequencies, so the most frequent label gets index 0.\n",
        "indexer = StringIndexer(inputCol= 'Spoiled', outputCol= 'label')\n",
        "indexerModel = indexer.fit(vecDf)\n",
        "indexVecDf = indexerModel.transform(vecDf)\n",
        "# indexVecIris_df.show(5)\n",
        "\n",
        "# Split test & train set\n",
        "(train_df, test_df) = indexVecDf.randomSplit([.7,.3],1)\n",
        "\n",
        "# Decision Tree Classification\n",
        "from pyspark.ml.classification import DecisionTreeClassifier\n",
        "decTree_classifier = DecisionTreeClassifier(labelCol='label', featuresCol='features')\n",
        "\n",
        "decTree_model = decTree_classifier.fit(train_df)\n",
        "decTree_pred = decTree_model.transform(test_df)\n",
        "# decTree_pred.select(['species','features','label','prediction']).show(46)\n",
        "\n",
        "decTree_eval = MulticlassClassificationEvaluator(metricName='accuracy')\n",
        "decTree_accuracy = decTree_eval.evaluate(decTree_pred)\n",
        "print('Decision Tree accuracy is {:.3f}'.format(decTree_accuracy))"
      ],
      "metadata": {
        "colab": {
          "base_uri": "https://localhost:8080/"
        },
        "id": "NXaaVOh4IK7P",
        "outputId": "30d06b3c-b6e4-414b-e5c0-01234143761d"
      },
      "execution_count": null,
      "outputs": [
        {
          "output_type": "stream",
          "name": "stdout",
          "text": [
            "Decision Tree accuracy is 0.979\n"
          ]
        }
      ]
    },
    {
      "cell_type": "markdown",
      "source": [
        "### MLP WAY"
      ],
      "metadata": {
        "id": "xVpD1T7dL3Pp"
      }
    },
    {
      "cell_type": "code",
      "source": [
        "train_df.show()"
      ],
      "metadata": {
        "colab": {
          "base_uri": "https://localhost:8080/"
        },
        "id": "jxnSqyXbNhsp",
        "outputId": "c12529a5-af46-4c4a-d4d6-c3188c2a5ff2"
      },
      "execution_count": null,
      "outputs": [
        {
          "output_type": "stream",
          "name": "stdout",
          "text": [
            "+---+---+----+---+-------+-------------------+-----+\n",
            "|  A|  B|   C|  D|Spoiled|           features|label|\n",
            "+---+---+----+---+-------+-------------------+-----+\n",
            "|  1|  1|10.0|  8|    1.0| [1.0,1.0,10.0,8.0]|  1.0|\n",
            "|  1|  1|12.0|  2|    1.0| [1.0,1.0,12.0,2.0]|  1.0|\n",
            "|  1|  1|12.0|  4|    1.0| [1.0,1.0,12.0,4.0]|  1.0|\n",
            "|  1|  1|13.0|  3|    1.0| [1.0,1.0,13.0,3.0]|  1.0|\n",
            "|  1|  3| 8.0|  3|    0.0|  [1.0,3.0,8.0,3.0]|  0.0|\n",
            "|  1|  3| 8.0|  5|    0.0|  [1.0,3.0,8.0,5.0]|  0.0|\n",
            "|  1|  3| 9.0|  8|    0.0|  [1.0,3.0,9.0,8.0]|  0.0|\n",
            "|  1|  4| 8.0|  1|    0.0|  [1.0,4.0,8.0,1.0]|  0.0|\n",
            "|  1|  4| 8.0|  5|    0.0|  [1.0,4.0,8.0,5.0]|  0.0|\n",
            "|  1|  4| 8.0|  7|    0.0|  [1.0,4.0,8.0,7.0]|  0.0|\n",
            "|  1|  4| 9.0|  3|    0.0|  [1.0,4.0,9.0,3.0]|  0.0|\n",
            "|  1|  5|12.0| 10|    1.0|[1.0,5.0,12.0,10.0]|  1.0|\n",
            "|  1|  5|13.0| 10|    1.0|[1.0,5.0,13.0,10.0]|  1.0|\n",
            "|  1|  6| 7.0|  8|    0.0|  [1.0,6.0,7.0,8.0]|  0.0|\n",
            "|  1|  6| 8.0|  1|    0.0|  [1.0,6.0,8.0,1.0]|  0.0|\n",
            "|  1|  6| 8.0|  3|    0.0|  [1.0,6.0,8.0,3.0]|  0.0|\n",
            "|  1|  6| 8.0|  9|    0.0|  [1.0,6.0,8.0,9.0]|  0.0|\n",
            "|  1|  6|11.0| 10|    1.0|[1.0,6.0,11.0,10.0]|  1.0|\n",
            "|  1|  7| 7.0|  2|    0.0|  [1.0,7.0,7.0,2.0]|  0.0|\n",
            "|  1|  7| 7.0|  6|    0.0|  [1.0,7.0,7.0,6.0]|  0.0|\n",
            "+---+---+----+---+-------+-------------------+-----+\n",
            "only showing top 20 rows\n",
            "\n"
          ]
        }
      ]
    },
    {
      "cell_type": "code",
      "source": [
        "from pyspark.ml.classification import MultilayerPerceptronClassifier\n",
        "layers = [4,6,6,2]\n",
        "mlp_classifier = MultilayerPerceptronClassifier(layers=layers, seed = 1)\n",
        "mlp_model = mlp_classifier.fit(train_df)\n",
        "mlp_pred = mlp_model.transform(test_df)\n",
        "mlp_pred.select(['features','label','prediction']).show(5)"
      ],
      "metadata": {
        "colab": {
          "base_uri": "https://localhost:8080/"
        },
        "id": "qkmVN1_VK_3M",
        "outputId": "ca9ec3be-261f-4ecd-b14a-ce0f7c1d8240"
      },
      "execution_count": null,
      "outputs": [
        {
          "output_type": "stream",
          "name": "stdout",
          "text": [
            "+-------------------+-----+----------+\n",
            "|           features|label|prediction|\n",
            "+-------------------+-----+----------+\n",
            "|  [1.0,2.0,9.0,1.0]|  0.0|       0.0|\n",
            "|  [1.0,2.0,9.0,4.0]|  0.0|       0.0|\n",
            "|  [1.0,4.0,9.0,6.0]|  0.0|       0.0|\n",
            "|[1.0,4.0,13.0,10.0]|  1.0|       1.0|\n",
            "|  [1.0,5.0,8.0,3.0]|  0.0|       0.0|\n",
            "+-------------------+-----+----------+\n",
            "only showing top 5 rows\n",
            "\n"
          ]
        }
      ]
    },
    {
      "cell_type": "code",
      "source": [
        "mlp_eval = MulticlassClassificationEvaluator(metricName = 'accuracy')\n",
        "mlp_accuracy = mlp_eval.evaluate(mlp_pred)\n",
        "print('MLP accuracy is {:.3f}'.format(mlp_accuracy))"
      ],
      "metadata": {
        "colab": {
          "base_uri": "https://localhost:8080/"
        },
        "id": "ZQMgbkNxLi7W",
        "outputId": "1e72309c-110e-4961-d34b-bd9d0d3be615"
      },
      "execution_count": null,
      "outputs": [
        {
          "output_type": "stream",
          "name": "stdout",
          "text": [
            "MLP accuracy is 0.972\n"
          ]
        }
      ]
    }
  ],
  "metadata": {
    "kernelspec": {
      "display_name": "Python 3",
      "language": "python",
      "name": "python3"
    },
    "language_info": {
      "codemirror_mode": {
        "name": "ipython",
        "version": 3
      },
      "file_extension": ".py",
      "mimetype": "text/x-python",
      "name": "python",
      "nbconvert_exporter": "python",
      "pygments_lexer": "ipython3",
      "version": "3.7.6"
    },
    "colab": {
      "name": "DT_Mini_Project.ipynb",
      "provenance": [],
      "collapsed_sections": [],
      "include_colab_link": true
    }
  },
  "nbformat": 4,
  "nbformat_minor": 0
}
